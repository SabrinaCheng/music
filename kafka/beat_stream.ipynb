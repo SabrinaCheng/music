{
 "cells": [
  {
   "cell_type": "code",
   "execution_count": 1,
   "metadata": {},
   "outputs": [],
   "source": [
    "import csv\n",
    "import collections\n",
    "import time"
   ]
  },
  {
   "cell_type": "code",
   "execution_count": 2,
   "metadata": {},
   "outputs": [],
   "source": [
    "file = 'data/endomondoHR_proper.csv'"
   ]
  },
  {
   "cell_type": "code",
   "execution_count": 3,
   "metadata": {},
   "outputs": [
    {
     "name": "stdout",
     "output_type": "stream",
     "text": [
      "Time used: 14.03\n"
     ]
    }
   ],
   "source": [
    "def get_n_lines(file):\n",
    "    start_t = time.time()\n",
    "    with open(file) as f:\n",
    "        # get number of lines\n",
    "        n_lines = sum(1 for line in f)\n",
    "    print('Time used: {:.2f}'.format(time.time() - start_t))\n",
    "    return n_lines\n",
    "\n",
    "n_lines = get_n_lines(file)"
   ]
  },
  {
   "cell_type": "code",
   "execution_count": 4,
   "metadata": {},
   "outputs": [
    {
     "data": {
      "text/plain": [
       "167784"
      ]
     },
     "execution_count": 4,
     "metadata": {},
     "output_type": "execute_result"
    }
   ],
   "source": [
    "n_lines"
   ]
  },
  {
   "cell_type": "code",
   "execution_count": 6,
   "metadata": {},
   "outputs": [],
   "source": [
    "def read_firrec_data(file):\n",
    "    start_t = time.time()\n",
    "    data = collections.defaultdict(dict)\n",
    "    block_size = 10000\n",
    "    with open(file) as f:\n",
    "        # init csv reader\n",
    "        reader = csv.reader(f)\n",
    "        # get header\n",
    "        header = next(reader)\n",
    "        print(header)\n",
    "        # read lines \n",
    "        for i in range(n_lines - 1):\n",
    "            block_idx = i // block_size\n",
    "            # create a new block\n",
    "            if i % block_size == 0:\n",
    "                print('create block #{}'.format(block_idx))\n",
    "                for col in header:\n",
    "                    data['block_' + str(block_idx)][col] = []\n",
    "            row = next(reader)\n",
    "            for idx, col in enumerate(header):\n",
    "                data['block_' + str(block_idx)][col].append(row[idx])\n",
    "    print('Time used: {:.2f}'.format(time.time() - start_t))\n",
    "    \n",
    "    return data"
   ]
  },
  {
   "cell_type": "code",
   "execution_count": 7,
   "metadata": {},
   "outputs": [
    {
     "name": "stdout",
     "output_type": "stream",
     "text": [
      "['longitude', 'altitude', 'latitude', 'sport', 'id', 'heart_rate', 'gender', 'timestamp', 'url', 'userId', 'speed']\n",
      "create block #0\n",
      "create block #1\n",
      "create block #2\n",
      "create block #3\n",
      "create block #4\n",
      "create block #5\n",
      "create block #6\n",
      "create block #7\n",
      "create block #8\n",
      "create block #9\n",
      "create block #10\n",
      "create block #11\n",
      "create block #12\n",
      "create block #13\n",
      "create block #14\n",
      "create block #15\n",
      "create block #16\n",
      "Time used: 79.27\n"
     ]
    }
   ],
   "source": [
    "workout_data = read_firrec_data(file)"
   ]
  },
  {
   "cell_type": "code",
   "execution_count": null,
   "metadata": {},
   "outputs": [],
   "source": [
    "# data"
   ]
  },
  {
   "cell_type": "code",
   "execution_count": null,
   "metadata": {},
   "outputs": [],
   "source": [
    "# msg: sport, id, heart_rate, gender, timestamp, userId\n",
    "# message = {'userId:': data[i]['userId'],\n",
    "#            'id': data[i]['id'], \n",
    "#            'heart_rate': data[i]['heart_rate'],\n",
    "#            'timestamp': data[i]['timestamp']\n",
    "#            }message = {'userId:': data[i]['userId'],\n",
    "#            'id': data[i]['id'], \n",
    "#            'heart_rate': data[i]['heart_rate'],\n",
    "#            'timestamp': data[i]['timestamp']\n",
    "#            }"
   ]
  }
 ],
 "metadata": {
  "kernelspec": {
   "display_name": "Python 3",
   "language": "python",
   "name": "python3"
  },
  "language_info": {
   "codemirror_mode": {
    "name": "ipython",
    "version": 3
   },
   "file_extension": ".py",
   "mimetype": "text/x-python",
   "name": "python",
   "nbconvert_exporter": "python",
   "pygments_lexer": "ipython3",
   "version": "3.7.4"
  }
 },
 "nbformat": 4,
 "nbformat_minor": 2
}